{
 "cells": [
  {
   "cell_type": "code",
   "execution_count": 99,
   "metadata": {},
   "outputs": [],
   "source": [
    "import pandas as pd\n",
    "import re\n",
    "from statsmodels.stats.proportion import proportions_ztest"
   ]
  },
  {
   "cell_type": "code",
   "execution_count": 100,
   "metadata": {},
   "outputs": [
    {
     "name": "stdout",
     "output_type": "stream",
     "text": [
      "Is poetic language more colorful than regular language? We'll take all of poetryfoundation.org's poems\n",
      "and counted how many words were color-related. Then we'll test this against normal english vocabulary.\n",
      "First, calculating percentage of poetry words which are 'colorful'...\n"
     ]
    }
   ],
   "source": [
    "print(\"Is poetic language more colorful than regular language? We'll take all of poetryfoundation.org's poems\")\n",
    "print(\"and counted how many words were color-related. Then we'll test this against normal english vocabulary.\")\n",
    "print(\"First, calculating percentage of poetry words which are 'colorful'...\")"
   ]
  },
  {
   "cell_type": "code",
   "execution_count": 101,
   "metadata": {},
   "outputs": [],
   "source": [
    "df = pd.read_csv('kaggle_poem_dataset.csv')"
   ]
  },
  {
   "cell_type": "code",
   "execution_count": 102,
   "metadata": {},
   "outputs": [],
   "source": [
    "df['Content'] = df['Content'].astype(str)"
   ]
  },
  {
   "cell_type": "code",
   "execution_count": 103,
   "metadata": {},
   "outputs": [],
   "source": [
    "text = ''\n",
    "for i in range(len(df.index)):\n",
    "    text += df.iloc[i,4] + ' '"
   ]
  },
  {
   "cell_type": "code",
   "execution_count": null,
   "metadata": {},
   "outputs": [],
   "source": []
  },
  {
   "cell_type": "code",
   "execution_count": null,
   "metadata": {},
   "outputs": [],
   "source": []
  },
  {
   "cell_type": "code",
   "execution_count": 104,
   "metadata": {},
   "outputs": [],
   "source": [
    "text = re.sub('\\\\n|\\\\t',' ',text)\n",
    "text = re.sub('\\\\|\\\\xa0','',text)\n",
    "text = text.lower()"
   ]
  },
  {
   "cell_type": "code",
   "execution_count": 105,
   "metadata": {},
   "outputs": [],
   "source": [
    "colors = re.findall('white|yellow|blue|red|green|black|brown|azure|ivory|teal|silver|purple|navy|gray|orange|maroon|charcoal|aquamarine|coral|fuchsia|crimson|cyan',text)\n",
    "words = re.split(' ',text)"
   ]
  },
  {
   "cell_type": "code",
   "execution_count": 106,
   "metadata": {},
   "outputs": [
    {
     "name": "stdout",
     "output_type": "stream",
     "text": [
      "The percentage of colorful words in poems: 0.92%.\n",
      "Next, calculating percentage of text message words which are 'colorful'...\n"
     ]
    }
   ],
   "source": [
    "print('The percentage of colorful words in poems: '+str(round(len(colors)/len(words)*100,2))+\"%.\")\n",
    "print(\"Next, calculating percentage of text message words which are 'colorful'...\")"
   ]
  },
  {
   "cell_type": "code",
   "execution_count": 107,
   "metadata": {},
   "outputs": [],
   "source": [
    "df2 = pd.read_csv(\"spam.csv\", encoding = 'latin-1',usecols=[0,1])\n",
    "df2.columns=['target','text']\n",
    "df2['text'] = df2['text'].astype(str)"
   ]
  },
  {
   "cell_type": "code",
   "execution_count": 108,
   "metadata": {},
   "outputs": [],
   "source": [
    "messages = ''\n",
    "for i in range(len(df2.index)):\n",
    "    messages += df2.iloc[i,1] + ' '"
   ]
  },
  {
   "cell_type": "code",
   "execution_count": 109,
   "metadata": {},
   "outputs": [],
   "source": [
    "messages = re.sub('\\\\n|\\\\t',' ',messages)\n",
    "messages = re.sub('\\\\|\\\\xa0','',messages)\n",
    "messages = messages.lower()"
   ]
  },
  {
   "cell_type": "code",
   "execution_count": 110,
   "metadata": {},
   "outputs": [
    {
     "name": "stdout",
     "output_type": "stream",
     "text": [
      "The percentage of colorful words in messages: 0.35%.\n"
     ]
    }
   ],
   "source": [
    "colorsM = re.findall('white|yellow|blue|red|green|black|brown|azure|ivory|teal|silver|purple|navy|gray|orange|maroon|charcoal|aquamarine|coral|fuchsia|crimson|cyan',messages)\n",
    "wordsM = re.split(' ',messages)\n",
    "print('The percentage of colorful words in messages: '+str(round(len(colorsM)/len(wordsM)*100,2))+\"%.\")"
   ]
  },
  {
   "cell_type": "code",
   "execution_count": 116,
   "metadata": {},
   "outputs": [
    {
     "name": "stdout",
     "output_type": "stream",
     "text": [
      "If we calculate a simple two sample z-test for proportions, we find..\n"
     ]
    }
   ],
   "source": [
    "stat, pval = proportions_ztest([len(colors),len(colorsM)], [len(words),len(wordsM)])\n",
    "print(\"If we calculate a simple two sample z-test for proportions, we find..\")"
   ]
  },
  {
   "cell_type": "code",
   "execution_count": 121,
   "metadata": {},
   "outputs": [
    {
     "name": "stdout",
     "output_type": "stream",
     "text": [
      "z = 17.61, and the p-value = 2.2132404214893136e-69.\n"
     ]
    }
   ],
   "source": [
    "print(\"z = \"+str(round(stat,2))+\", and the p-value = \"+str(pval)+\".\")"
   ]
  },
  {
   "cell_type": "code",
   "execution_count": 122,
   "metadata": {},
   "outputs": [
    {
     "name": "stdout",
     "output_type": "stream",
     "text": [
      "And so we see that poetic language is, in fact, far more colorful than normal texting language.\n"
     ]
    }
   ],
   "source": [
    "print(\"And so we see that poetic language is, in fact, far more colorful than normal texting language.\")"
   ]
  },
  {
   "cell_type": "code",
   "execution_count": null,
   "metadata": {},
   "outputs": [],
   "source": []
  }
 ],
 "metadata": {
  "kernelspec": {
   "display_name": "Python 3",
   "language": "python",
   "name": "python3"
  },
  "language_info": {
   "codemirror_mode": {
    "name": "ipython",
    "version": 3
   },
   "file_extension": ".py",
   "mimetype": "text/x-python",
   "name": "python",
   "nbconvert_exporter": "python",
   "pygments_lexer": "ipython3",
   "version": "3.5.3"
  }
 },
 "nbformat": 4,
 "nbformat_minor": 2
}
